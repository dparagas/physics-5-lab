{
 "cells": [
  {
   "cell_type": "code",
   "execution_count": 45,
   "id": "cc6c5dd1",
   "metadata": {
    "pycharm": {
     "name": "#%%\n"
    }
   },
   "outputs": [],
   "source": [
    "import pandas as pd\n",
    "import matplotlib.pyplot as plt\n",
    "import numpy as np\n",
    "import physics_5_lab as pl"
   ]
  },
  {
   "cell_type": "code",
   "execution_count": 46,
   "id": "5f6ce287",
   "metadata": {
    "pycharm": {
     "name": "#%%\n"
    }
   },
   "outputs": [],
   "source": [
    "# Initialize x-values, y-values, x-uncertanties, and y-uncertanties\n",
    "upper_bounds = [1, 2, 3, 4, 5, 6, 7, 8, 9, 10, 11]\n",
    "\n",
    "a = np.arange(0, len(upper_bounds))\n",
    "d = np.random.randint(0, upper_bounds)\n",
    "alpha = np.random.rand(a.size)\n",
    "beta = np.random.rand(a.size)"
   ]
  },
  {
   "cell_type": "markdown",
   "id": "1d8bf762",
   "metadata": {
    "pycharm": {
     "name": "#%% md\n"
    }
   },
   "source": [
    "This is a guide to using the functions defined in the `physics_5_lab.py` file. The order of this iPython notebook's sections follows that of the PHYSICS 5CL Statistics Reference Sheet. All functions, barring those that plot data, are implemented using the equations provided in the Statistics Reference Sheet."
   ]
  },
  {
   "cell_type": "markdown",
   "id": "91586514",
   "metadata": {
    "pycharm": {
     "name": "#%% md\n"
    }
   },
   "source": [
    "# Section 1: Statistical Measures for a Single Variable $\\{y_i\\}$"
   ]
  },
  {
   "cell_type": "code",
   "execution_count": 47,
   "id": "ebd6d560",
   "metadata": {
    "pycharm": {
     "name": "#%%\n"
    }
   },
   "outputs": [
    {
     "data": {
      "text/plain": [
       "5.0"
      ]
     },
     "execution_count": 47,
     "metadata": {},
     "output_type": "execute_result"
    }
   ],
   "source": [
    "# Mean\n",
    "pl.mean(a)"
   ]
  },
  {
   "cell_type": "code",
   "execution_count": 48,
   "id": "72ecb09d",
   "metadata": {
    "pycharm": {
     "name": "#%%\n"
    }
   },
   "outputs": [
    {
     "data": {
      "text/plain": [
       "array([-5., -4., -3., -2., -1.,  0.,  1.,  2.,  3.,  4.,  5.])"
      ]
     },
     "execution_count": 48,
     "metadata": {},
     "output_type": "execute_result"
    }
   ],
   "source": [
    "# Deviation from the Mean\n",
    "pl.dev_mean(a)"
   ]
  },
  {
   "cell_type": "code",
   "execution_count": 49,
   "id": "1a72829c",
   "metadata": {
    "pycharm": {
     "name": "#%%\n"
    }
   },
   "outputs": [
    {
     "data": {
      "text/plain": [
       "10.0"
      ]
     },
     "execution_count": 49,
     "metadata": {},
     "output_type": "execute_result"
    }
   ],
   "source": [
    "# Variance - Parent\n",
    "pl.var_parent(a)"
   ]
  },
  {
   "cell_type": "code",
   "execution_count": 50,
   "id": "b9d94c5b",
   "metadata": {
    "pycharm": {
     "name": "#%%\n"
    }
   },
   "outputs": [
    {
     "data": {
      "text/plain": [
       "11.0"
      ]
     },
     "execution_count": 50,
     "metadata": {},
     "output_type": "execute_result"
    }
   ],
   "source": [
    "# Variance - Sample\n",
    "pl.var_sample(a)"
   ]
  },
  {
   "cell_type": "code",
   "execution_count": 51,
   "id": "ad70d931",
   "metadata": {
    "pycharm": {
     "name": "#%%\n"
    }
   },
   "outputs": [
    {
     "data": {
      "text/plain": [
       "3.1622776601683795"
      ]
     },
     "execution_count": 51,
     "metadata": {},
     "output_type": "execute_result"
    }
   ],
   "source": [
    "# Standard Deviation - Parent\n",
    "pl.std_parent(a)"
   ]
  },
  {
   "cell_type": "code",
   "execution_count": 52,
   "id": "34ef924a",
   "metadata": {
    "pycharm": {
     "name": "#%%\n"
    }
   },
   "outputs": [
    {
     "data": {
      "text/plain": [
       "3.3166247903554"
      ]
     },
     "execution_count": 52,
     "metadata": {},
     "output_type": "execute_result"
    }
   ],
   "source": [
    "# Standard Deviation - Sample\n",
    "pl.std_sample(a)"
   ]
  },
  {
   "cell_type": "code",
   "execution_count": 53,
   "id": "17a53e47",
   "metadata": {
    "pycharm": {
     "name": "#%%\n"
    }
   },
   "outputs": [
    {
     "data": {
      "text/plain": [
       "3.1622776601683795"
      ]
     },
     "execution_count": 53,
     "metadata": {},
     "output_type": "execute_result"
    }
   ],
   "source": [
    "# Stanard Deviation - General\n",
    "\n",
    "# Returns the standard deviation of an iterable's elements.\n",
    "# The `type` parameter specifies if the iterable represents a\n",
    "# \"parent\" or \"sample\" distribution. Also, if the iterable has less\n",
    "# than five elements, the sample standard deviation is taken.\n",
    "\n",
    "pl.std(a)"
   ]
  },
  {
   "cell_type": "code",
   "execution_count": 54,
   "id": "b5d7b6f6",
   "metadata": {
    "pycharm": {
     "name": "#%%\n"
    }
   },
   "outputs": [
    {
     "data": {
      "text/plain": [
       "1.0"
      ]
     },
     "execution_count": 54,
     "metadata": {},
     "output_type": "execute_result"
    }
   ],
   "source": [
    "# Standard Error\n",
    "\n",
    "pl.standard_err(a)"
   ]
  },
  {
   "cell_type": "markdown",
   "id": "db4b8086",
   "metadata": {
    "pycharm": {
     "name": "#%% md\n"
    }
   },
   "source": [
    "# Statistical Measures for Two Variables $\\{ x_i, y_i \\}$"
   ]
  },
  {
   "cell_type": "code",
   "execution_count": 55,
   "id": "d064764d",
   "metadata": {
    "pycharm": {
     "name": "#%%\n"
    }
   },
   "outputs": [
    {
     "data": {
      "text/plain": [
       "8.0"
      ]
     },
     "execution_count": 55,
     "metadata": {},
     "output_type": "execute_result"
    }
   ],
   "source": [
    "# Covariance\n",
    "\n",
    "pl.covariance(a, d)"
   ]
  },
  {
   "cell_type": "code",
   "execution_count": 56,
   "id": "272dc6ae",
   "metadata": {
    "pycharm": {
     "name": "#%%\n"
    }
   },
   "outputs": [
    {
     "data": {
      "text/plain": [
       "0.9066866489617678"
      ]
     },
     "execution_count": 56,
     "metadata": {},
     "output_type": "execute_result"
    }
   ],
   "source": [
    "# Correlation Coefficient\n",
    "\n",
    "pl.corr_coeff(a, d)"
   ]
  },
  {
   "cell_type": "markdown",
   "id": "9422725f",
   "metadata": {
    "pycharm": {
     "name": "#%% md\n"
    }
   },
   "source": [
    "# Regression"
   ]
  },
  {
   "cell_type": "markdown",
   "id": "2b4121cb",
   "metadata": {
    "pycharm": {
     "name": "#%% md\n"
    }
   },
   "source": [
    "I have implemented four different regression models:\n",
    "- `pl.SimpleLin`: Simple Linear Model $(y=mx+c)$\n",
    "- `pl.SimpleDirectProp`: Simple Direct Proportionality Model $(y=mx)$\n",
    "- `pl.WeightLin`:  Weighted Linear Model $(y=mx+c)$\n",
    "- `pl.WeightDirectProp`: Weighted Direct Proportionality Model $(y=mx)$.\n",
    "\n",
    "Several functions depend on which regression model you choose."
   ]
  },
  {
   "cell_type": "markdown",
   "id": "9714075d",
   "metadata": {
    "pycharm": {
     "name": "#%% md\n"
    }
   },
   "source": [
    "## $\\chi^2$ and the Normalized Residual"
   ]
  },
  {
   "cell_type": "code",
   "execution_count": 57,
   "id": "7a1e2321",
   "metadata": {
    "pycharm": {
     "name": "#%%\n"
    }
   },
   "outputs": [
    {
     "name": "stdout",
     "output_type": "stream",
     "text": [
      "Simple Linear Model\n"
     ]
    },
    {
     "data": {
      "text/plain": [
       "4355.446921652268"
      ]
     },
     "metadata": {},
     "output_type": "display_data"
    },
    {
     "name": "stdout",
     "output_type": "stream",
     "text": [
      "Simple Direct Proportionality Model\n"
     ]
    },
    {
     "data": {
      "text/plain": [
       "4196.223242503563"
      ]
     },
     "metadata": {},
     "output_type": "display_data"
    },
    {
     "name": "stdout",
     "output_type": "stream",
     "text": [
      "Weighted Linear Model\n"
     ]
    },
    {
     "data": {
      "text/plain": [
       "151.63485945074484"
      ]
     },
     "metadata": {},
     "output_type": "display_data"
    },
    {
     "name": "stdout",
     "output_type": "stream",
     "text": [
      "Weighted Direct Proportionality Model\n"
     ]
    },
    {
     "data": {
      "text/plain": [
       "152.57651890481606"
      ]
     },
     "metadata": {},
     "output_type": "display_data"
    }
   ],
   "source": [
    "# Chi Squared\n",
    "\n",
    "chisq1 = pl.chi_sq(a, d, alpha, pl.SimpleLin)\n",
    "chisq2 = pl.chi_sq(a, d, alpha, pl.SimpleDirectProp)\n",
    "chisq3 = pl.chi_sq(a, d, alpha, pl.WeightLin)\n",
    "chisq4 = pl.chi_sq(a, d, alpha, pl.WeightDirectProp)\n",
    "print(pl.SimpleLin.name)\n",
    "display(chisq1)\n",
    "print(pl.SimpleDirectProp.name)\n",
    "display(chisq2)\n",
    "print(pl.WeightLin.name)\n",
    "display(chisq3)\n",
    "print(pl.WeightDirectProp.name)\n",
    "display(chisq4)"
   ]
  },
  {
   "cell_type": "code",
   "execution_count": 58,
   "id": "ed34a3e5",
   "metadata": {
    "pycharm": {
     "name": "#%%\n"
    }
   },
   "outputs": [
    {
     "name": "stdout",
     "output_type": "stream",
     "text": [
      "Simple Linear Model\n"
     ]
    },
    {
     "data": {
      "text/plain": [
       "array([ 1.18181818,  0.38181818, -0.41818182,  0.78181818, -2.01818182,\n",
       "       -0.81818182,  2.38181818, -2.41818182,  2.78181818, -1.01818182,\n",
       "       -0.81818182])"
      ]
     },
     "metadata": {},
     "output_type": "display_data"
    },
    {
     "name": "stdout",
     "output_type": "stream",
     "text": [
      "Simple Direct Proportionality Model\n"
     ]
    },
    {
     "data": {
      "text/plain": [
       "array([ 0.        , -0.61038961, -1.22077922,  0.16883117, -2.44155844,\n",
       "       -1.05194805,  2.33766234, -2.27272727,  3.11688312, -0.49350649,\n",
       "       -0.1038961 ])"
      ]
     },
     "metadata": {},
     "output_type": "display_data"
    },
    {
     "name": "stdout",
     "output_type": "stream",
     "text": [
      "Weighted Linear Model\n"
     ]
    },
    {
     "data": {
      "text/plain": [
       "array([ 0.25644989, -0.77676496, -1.80997981, -0.84319466, -3.87640951,\n",
       "       -2.90962436,  0.05716079, -4.97605405, -0.0092689 , -4.04248375,\n",
       "       -4.0756986 ])"
      ]
     },
     "metadata": {},
     "output_type": "display_data"
    },
    {
     "name": "stdout",
     "output_type": "stream",
     "text": [
      "Weighted Direct Proportionality Model\n"
     ]
    },
    {
     "data": {
      "text/plain": [
       "array([ 0.        , -0.99057491, -1.98114983, -0.97172474, -3.96229965,\n",
       "       -2.95287456,  0.05655052, -4.93402439,  0.0754007 , -3.91517422,\n",
       "       -3.90574913])"
      ]
     },
     "metadata": {},
     "output_type": "display_data"
    }
   ],
   "source": [
    "# Residuals\n",
    "\n",
    "resid1 = pl.resid(a, d, alpha, pl.SimpleLin)\n",
    "resid2 = pl.resid(a, d, alpha, pl.SimpleDirectProp)\n",
    "resid3 = pl.resid(a, d, alpha, pl.WeightLin)\n",
    "resid4 = pl.resid(a, d, alpha, pl.WeightDirectProp)\n",
    "print(pl.SimpleLin.name)\n",
    "display(resid1)\n",
    "print(pl.SimpleDirectProp.name)\n",
    "display(resid2)\n",
    "print(pl.WeightLin.name)\n",
    "display(resid3)\n",
    "print(pl.WeightDirectProp.name)\n",
    "display(resid4)"
   ]
  },
  {
   "cell_type": "code",
   "execution_count": 59,
   "id": "188fb0ba",
   "metadata": {
    "pycharm": {
     "name": "#%%\n"
    }
   },
   "outputs": [
    {
     "name": "stdout",
     "output_type": "stream",
     "text": [
      "Simple Linear Model\n"
     ]
    },
    {
     "data": {
      "text/plain": [
       "array([ 3.10016626,  0.81107931, -0.80322843,  1.51108081, -2.52804899,\n",
       "       -0.84428792, 65.59653099, -3.00196612,  4.46636099, -1.52028018,\n",
       "       -0.98454821])"
      ]
     },
     "metadata": {},
     "output_type": "display_data"
    },
    {
     "name": "stdout",
     "output_type": "stream",
     "text": [
      "Simple Direct Proportionality Model\n"
     ]
    },
    {
     "data": {
      "text/plain": [
       "array([ 0.        , -1.29662339, -2.34482834,  0.32631313, -3.05838617,\n",
       "       -1.08551305, 64.38045572, -2.82139673,  5.00432604, -0.7368705 ,\n",
       "       -0.125022  ])"
      ]
     },
     "metadata": {},
     "output_type": "display_data"
    },
    {
     "name": "stdout",
     "output_type": "stream",
     "text": [
      "Weighted Linear Model\n"
     ]
    },
    {
     "data": {
      "text/plain": [
       "array([ 0.67272386, -1.65004711, -3.47654341, -1.6297079 , -4.85573354,\n",
       "       -3.00246309,  1.57423847, -6.17734596, -0.01488173, -6.03596316,\n",
       "       -4.90443771])"
      ]
     },
     "metadata": {},
     "output_type": "display_data"
    },
    {
     "name": "stdout",
     "output_type": "stream",
     "text": [
      "Weighted Direct Proportionality Model\n"
     ]
    },
    {
     "data": {
      "text/plain": [
       "array([ 0.        , -2.10423404, -3.80532055, -1.87812798, -4.9633227 ,\n",
       "       -3.0470933 ,  1.55743125, -6.12516973,  0.12105993, -5.84587317,\n",
       "       -4.69993128])"
      ]
     },
     "metadata": {},
     "output_type": "display_data"
    }
   ],
   "source": [
    "# Normalized Residuals\n",
    "\n",
    "nresid1 = pl.norm_resid(a, d, alpha, pl.SimpleLin)\n",
    "nresid2 = pl.norm_resid(a, d, alpha, pl.SimpleDirectProp)\n",
    "nresid3 = pl.norm_resid(a, d, alpha, pl.WeightLin)\n",
    "nresid4 = pl.norm_resid(a, d, alpha, pl.WeightDirectProp)\n",
    "print(pl.SimpleLin.name)\n",
    "display(nresid1)\n",
    "print(pl.SimpleDirectProp.name)\n",
    "display(nresid2)\n",
    "print(pl.WeightLin.name)\n",
    "display(nresid3)\n",
    "print(pl.WeightDirectProp.name)\n",
    "display(nresid4)"
   ]
  },
  {
   "cell_type": "markdown",
   "id": "7d0023cb",
   "metadata": {
    "pycharm": {
     "name": "#%% md\n"
    }
   },
   "source": [
    "## Simple Least-Squares Linear Regression"
   ]
  },
  {
   "cell_type": "markdown",
   "id": "5ca53d22",
   "metadata": {
    "pycharm": {
     "name": "#%% md\n"
    }
   },
   "source": [
    "### The Linear Model; `pl.SimpleLin`"
   ]
  },
  {
   "cell_type": "code",
   "execution_count": 60,
   "id": "0cbbe600",
   "metadata": {
    "pycharm": {
     "name": "#%%\n"
    }
   },
   "outputs": [
    {
     "data": {
      "text/plain": [
       "array([-1.18181818, -0.38181818,  0.41818182,  1.21818182,  2.01818182,\n",
       "        2.81818182,  3.61818182,  4.41818182,  5.21818182,  6.01818182,\n",
       "        6.81818182])"
      ]
     },
     "execution_count": 60,
     "metadata": {},
     "output_type": "execute_result"
    }
   ],
   "source": [
    "# Model\n",
    "\n",
    "pl.SimpleLin.model(a, d, alpha)"
   ]
  },
  {
   "cell_type": "code",
   "execution_count": 61,
   "id": "3373391c",
   "metadata": {
    "pycharm": {
     "name": "#%%\n"
    }
   },
   "outputs": [
    {
     "data": {
      "text/plain": [
       "1210.0"
      ]
     },
     "execution_count": 61,
     "metadata": {},
     "output_type": "execute_result"
    }
   ],
   "source": [
    "# Delta Combination (no need to use)\n",
    "\n",
    "pl.SimpleLin.delta_combo(a)"
   ]
  },
  {
   "cell_type": "code",
   "execution_count": 62,
   "id": "c5ab6a74",
   "metadata": {
    "pycharm": {
     "name": "#%%\n"
    }
   },
   "outputs": [
    {
     "data": {
      "text/plain": [
       "0.7999999999999998"
      ]
     },
     "execution_count": 62,
     "metadata": {},
     "output_type": "execute_result"
    }
   ],
   "source": [
    "# Slope\n",
    "\n",
    "pl.SimpleLin.slope(a, d)"
   ]
  },
  {
   "cell_type": "code",
   "execution_count": 63,
   "id": "efd71bc4",
   "metadata": {
    "pycharm": {
     "name": "#%%\n"
    }
   },
   "outputs": [
    {
     "data": {
      "text/plain": [
       "-1.1818181818181808"
      ]
     },
     "execution_count": 63,
     "metadata": {},
     "output_type": "execute_result"
    }
   ],
   "source": [
    "# Intercept\n",
    "\n",
    "pl.SimpleLin.intercept(a, d)"
   ]
  },
  {
   "cell_type": "code",
   "execution_count": 64,
   "id": "4b235356",
   "metadata": {
    "pycharm": {
     "name": "#%%\n"
    }
   },
   "outputs": [
    {
     "data": {
      "text/plain": [
       "1.7649791826397032"
      ]
     },
     "execution_count": 64,
     "metadata": {},
     "output_type": "execute_result"
    }
   ],
   "source": [
    "# Common Uncertainty\n",
    "\n",
    "pl.SimpleLin.common_uncty(a, d)"
   ]
  },
  {
   "cell_type": "code",
   "execution_count": 65,
   "id": "3ff2ba93",
   "metadata": {
    "pycharm": {
     "name": "#%%\n"
    }
   },
   "outputs": [
    {
     "data": {
      "text/plain": [
       "0.16828416214442207"
      ]
     },
     "execution_count": 65,
     "metadata": {},
     "output_type": "execute_result"
    }
   ],
   "source": [
    "# Slope Uncertainty\n",
    "\n",
    "pl.SimpleLin.slope_uncty(a, d)"
   ]
  },
  {
   "cell_type": "code",
   "execution_count": 66,
   "id": "51ca7101",
   "metadata": {
    "pycharm": {
     "name": "#%%\n"
    }
   },
   "outputs": [
    {
     "data": {
      "text/plain": [
       "0.9955825294784731"
      ]
     },
     "execution_count": 66,
     "metadata": {},
     "output_type": "execute_result"
    }
   ],
   "source": [
    "# Intercept Uncertainty\n",
    "\n",
    "pl.SimpleLin.intercept_uncty(a, d)"
   ]
  },
  {
   "cell_type": "code",
   "execution_count": 143,
   "id": "7a56ceaa",
   "metadata": {
    "pycharm": {
     "name": "#%%\n"
    }
   },
   "outputs": [
    {
     "name": "stdout",
     "output_type": "stream",
     "text": [
      "X-axis title not found\n",
      "Y-axis title not found\n",
      "Equation: y=mx+c\n",
      "m = 0.8 ± 0.2 \n",
      "c = -1.2 ± 1.0 \n",
      "Reduced Chi-Squared = 483.9\n"
     ]
    },
    {
     "data": {
      "image/png": "[encoded data removed]",
      "text/plain": [
       "<Figure size 600x600 with 1 Axes>"
      ]
     },
     "metadata": {},
     "output_type": "display_data"
    }
   ],
   "source": [
    "# Refer to the visualization section of the jupyter notebook\n",
    "# for more information on plotting\n",
    "\n",
    "pl.best_fit_plt_arr(a, d, alpha, pl.SimpleLin, show_ref=True)"
   ]
  },
  {
   "cell_type": "markdown",
   "id": "d068630c",
   "metadata": {
    "pycharm": {
     "name": "#%% md\n"
    }
   },
   "source": [
    "### The Direct Proportionality Model; `pl.SimpleDirectProp`"
   ]
  },
  {
   "cell_type": "code",
   "execution_count": 68,
   "id": "c134ba08",
   "metadata": {
    "pycharm": {
     "name": "#%%\n"
    }
   },
   "outputs": [
    {
     "data": {
      "text/plain": [
       "array([0.        , 0.61038961, 1.22077922, 1.83116883, 2.44155844,\n",
       "       3.05194805, 3.66233766, 4.27272727, 4.88311688, 5.49350649,\n",
       "       6.1038961 ])"
      ]
     },
     "execution_count": 68,
     "metadata": {},
     "output_type": "execute_result"
    }
   ],
   "source": [
    "# Model\n",
    "\n",
    "pl.SimpleDirectProp.model(a, d, alpha)"
   ]
  },
  {
   "cell_type": "code",
   "execution_count": 69,
   "id": "8ed1b761",
   "metadata": {
    "pycharm": {
     "name": "#%%\n"
    }
   },
   "outputs": [
    {
     "data": {
      "text/plain": [
       "0.6103896103896104"
      ]
     },
     "execution_count": 69,
     "metadata": {},
     "output_type": "execute_result"
    }
   ],
   "source": [
    "# Slope\n",
    "\n",
    "pl.SimpleDirectProp.slope(a, d)"
   ]
  },
  {
   "cell_type": "code",
   "execution_count": 70,
   "id": "1990da52",
   "metadata": {
    "pycharm": {
     "name": "#%%\n"
    }
   },
   "outputs": [
    {
     "data": {
      "text/plain": [
       "1.7192568615085286"
      ]
     },
     "execution_count": 70,
     "metadata": {},
     "output_type": "execute_result"
    }
   ],
   "source": [
    "# Common Uncertainty\n",
    "\n",
    "pl.SimpleDirectProp.common_uncty(a, d)"
   ]
  },
  {
   "cell_type": "code",
   "execution_count": 71,
   "id": "ac7b739e",
   "metadata": {
    "pycharm": {
     "name": "#%%\n"
    }
   },
   "outputs": [
    {
     "data": {
      "text/plain": [
       "0.08762144308276884"
      ]
     },
     "execution_count": 71,
     "metadata": {},
     "output_type": "execute_result"
    }
   ],
   "source": [
    "# Slope Uncertainty\n",
    "\n",
    "pl.SimpleDirectProp.slope_uncty(a, d)"
   ]
  },
  {
   "cell_type": "code",
   "execution_count": 72,
   "id": "b73b1676",
   "metadata": {
    "pycharm": {
     "name": "#%%\n"
    }
   },
   "outputs": [
    {
     "name": "stdout",
     "output_type": "stream",
     "text": [
      "X-axis title not found\n",
      "Y-axis title not found\n",
      "Equation: y=mx\n",
      "m = 0.6 ± 0.1 \n",
      "Reduced Chi-Squared = 419.6\n"
     ]
    },
    {
     "data": {
      "image/png": "[encoded data removed]",
      "text/plain": [
       "<Figure size 600x600 with 1 Axes>"
      ]
     },
     "metadata": {},
     "output_type": "display_data"
    }
   ],
   "source": [
    "# Refer to the visualization section of the jupyter notebook\n",
    "# for more information on plotting\n",
    "\n",
    "pl.best_fit_plt_arr(a, d, alpha, pl.SimpleDirectProp, show_ref=True)"
   ]
  },
  {
   "cell_type": "markdown",
   "id": "ce03ee37",
   "metadata": {
    "pycharm": {
     "name": "#%% md\n"
    }
   },
   "source": [
    "## Weighted Least-Squares Approach"
   ]
  },
  {
   "cell_type": "markdown",
   "id": "83becd91",
   "metadata": {
    "pycharm": {
     "name": "#%% md\n"
    }
   },
   "source": [
    "### The Linear Model; `pl.WeightLin`"
   ]
  },
  {
   "cell_type": "code",
   "execution_count": 73,
   "id": "c7d21fef",
   "metadata": {
    "pycharm": {
     "name": "#%%\n"
    }
   },
   "outputs": [
    {
     "data": {
      "text/plain": [
       "array([-0.25644989,  0.77676496,  1.80997981,  2.84319466,  3.87640951,\n",
       "        4.90962436,  5.94283921,  6.97605405,  8.0092689 ,  9.04248375,\n",
       "       10.0756986 ])"
      ]
     },
     "execution_count": 73,
     "metadata": {},
     "output_type": "execute_result"
    }
   ],
   "source": [
    "# Model\n",
    "\n",
    "pl.WeightLin.model(a, d, alpha)"
   ]
  },
  {
   "cell_type": "code",
   "execution_count": 74,
   "id": "851d71e2",
   "metadata": {
    "pycharm": {
     "name": "#%%\n"
    }
   },
   "outputs": [
    {
     "data": {
      "text/plain": [
       "400563.52742563933"
      ]
     },
     "execution_count": 74,
     "metadata": {},
     "output_type": "execute_result"
    }
   ],
   "source": [
    "# Delta Combination (no need to use)\n",
    "\n",
    "pl.WeightLin.delta_combo(a, alpha)"
   ]
  },
  {
   "cell_type": "code",
   "execution_count": 75,
   "id": "3001c679",
   "metadata": {
    "pycharm": {
     "name": "#%%\n"
    }
   },
   "outputs": [
    {
     "data": {
      "text/plain": [
       "1.0332148489605535"
      ]
     },
     "execution_count": 75,
     "metadata": {},
     "output_type": "execute_result"
    }
   ],
   "source": [
    "# Slope\n",
    "\n",
    "pl.WeightLin.slope(a, d, alpha)"
   ]
  },
  {
   "cell_type": "code",
   "execution_count": 76,
   "id": "f4bce333",
   "metadata": {
    "pycharm": {
     "name": "#%%\n"
    }
   },
   "outputs": [
    {
     "data": {
      "text/plain": [
       "-0.25644988781945577"
      ]
     },
     "execution_count": 76,
     "metadata": {},
     "output_type": "execute_result"
    }
   ],
   "source": [
    "# Intercept\n",
    "\n",
    "pl.WeightLin.intercept(a, d, alpha)"
   ]
  },
  {
   "cell_type": "code",
   "execution_count": 77,
   "id": "957974c1",
   "metadata": {
    "pycharm": {
     "name": "#%%\n"
    }
   },
   "outputs": [
    {
     "data": {
      "text/plain": [
       "0.044345842431494684"
      ]
     },
     "execution_count": 77,
     "metadata": {},
     "output_type": "execute_result"
    }
   ],
   "source": [
    "# Slope Uncertainty\n",
    "\n",
    "pl.WeightLin.slope_uncty(a, d, alpha)"
   ]
  },
  {
   "cell_type": "code",
   "execution_count": 78,
   "id": "67d8c39b",
   "metadata": {
    "pycharm": {
     "name": "#%%\n"
    }
   },
   "outputs": [
    {
     "data": {
      "text/plain": [
       "0.2642746935707993"
      ]
     },
     "execution_count": 78,
     "metadata": {},
     "output_type": "execute_result"
    }
   ],
   "source": [
    "# Intercept Uncertainty\n",
    "\n",
    "pl.WeightLin.intercept_uncty(a, d, alpha)"
   ]
  },
  {
   "cell_type": "code",
   "execution_count": 79,
   "id": "99bd5d53",
   "metadata": {
    "pycharm": {
     "name": "#%%\n"
    }
   },
   "outputs": [
    {
     "name": "stdout",
     "output_type": "stream",
     "text": [
      "X-axis title not found\n",
      "Y-axis title not found\n",
      "Equation: y=mx+c\n",
      "m = 1.0 ± 0.0 \n",
      "c = -0.3 ± 0.3 \n",
      "Reduced Chi-Squared = 16.8\n"
     ]
    },
    {
     "data": {
      "image/png": "[encoded data removed]",
      "text/plain": [
       "<Figure size 600x600 with 1 Axes>"
      ]
     },
     "metadata": {},
     "output_type": "display_data"
    }
   ],
   "source": [
    "# Refer to the visualization section of the jupyter notebook\n",
    "# for more information on plotting\n",
    "\n",
    "pl.best_fit_plt_arr(a, d, alpha, pl.WeightLin, grid=True)"
   ]
  },
  {
   "cell_type": "markdown",
   "id": "c5a33268",
   "metadata": {
    "pycharm": {
     "name": "#%% md\n"
    }
   },
   "source": [
    "### The Direct Proportionality Hypothesis `pl.WeightDirectProp`"
   ]
  },
  {
   "cell_type": "code",
   "execution_count": 80,
   "id": "5c567e1e",
   "metadata": {
    "pycharm": {
     "name": "#%%\n"
    }
   },
   "outputs": [
    {
     "data": {
      "text/plain": [
       "array([0.        , 0.99057491, 1.98114983, 2.97172474, 3.96229965,\n",
       "       4.95287456, 5.94344948, 6.93402439, 7.9245993 , 8.91517422,\n",
       "       9.90574913])"
      ]
     },
     "execution_count": 80,
     "metadata": {},
     "output_type": "execute_result"
    }
   ],
   "source": [
    "# Model\n",
    "\n",
    "pl.WeightDirectProp.model(a, d, alpha)"
   ]
  },
  {
   "cell_type": "code",
   "execution_count": 81,
   "id": "56fe5500",
   "metadata": {
    "pycharm": {
     "name": "#%%\n"
    }
   },
   "outputs": [
    {
     "data": {
      "text/plain": [
       "array([ 0,  1,  2,  3,  4,  5,  6,  7,  8,  9, 10])"
      ]
     },
     "execution_count": 81,
     "metadata": {},
     "output_type": "execute_result"
    }
   ],
   "source": [
    "a"
   ]
  },
  {
   "cell_type": "code",
   "execution_count": 82,
   "id": "feab1b07",
   "metadata": {
    "pycharm": {
     "name": "#%%\n"
    }
   },
   "outputs": [
    {
     "data": {
      "text/plain": [
       "0.9905749129958015"
      ]
     },
     "execution_count": 82,
     "metadata": {},
     "output_type": "execute_result"
    }
   ],
   "source": [
    "# Slope\n",
    "\n",
    "pl.WeightDirectProp.slope(a, d, alpha)"
   ]
  },
  {
   "cell_type": "code",
   "execution_count": 83,
   "id": "ed26519e",
   "metadata": {
    "pycharm": {
     "name": "#%%\n"
    }
   },
   "outputs": [
    {
     "data": {
      "text/plain": [
       "0.14876694431117085"
      ]
     },
     "execution_count": 83,
     "metadata": {},
     "output_type": "execute_result"
    }
   ],
   "source": [
    "# Slope Uncertainty\n",
    "\n",
    "pl.WeightDirectProp.slope_uncty(a, d, alpha)"
   ]
  },
  {
   "cell_type": "code",
   "execution_count": 84,
   "id": "33c15818",
   "metadata": {
    "pycharm": {
     "name": "#%%\n"
    }
   },
   "outputs": [
    {
     "name": "stdout",
     "output_type": "stream",
     "text": [
      "X-axis title not found\n",
      "Y-axis title not found\n",
      "Equation: y=mx\n",
      "m = 1.0 ± 0.1 \n",
      "Reduced Chi-Squared = 15.3\n"
     ]
    },
    {
     "data": {
      "image/png": "[encoded data removed]",
      "text/plain": [
       "<Figure size 600x600 with 1 Axes>"
      ]
     },
     "metadata": {},
     "output_type": "display_data"
    }
   ],
   "source": [
    "# Refer to the visualization section of the jupyter notebook\n",
    "# for more information on plotting\n",
    "\n",
    "pl.best_fit_plt_arr(a, d, alpha, pl.WeightDirectProp, grid=True)"
   ]
  },
  {
   "cell_type": "markdown",
   "id": "1c5e7503",
   "metadata": {
    "pycharm": {
     "name": "#%% md\n"
    }
   },
   "source": [
    "### Uncertainties in the Independent Variable"
   ]
  },
  {
   "cell_type": "code",
   "execution_count": 85,
   "id": "4a102ef0",
   "metadata": {
    "pycharm": {
     "name": "#%%\n"
    }
   },
   "outputs": [
    {
     "data": {
      "text/plain": [
       "array([0.52556014, 0.67369764, 0.62104802, 0.53992325, 1.09911531,\n",
       "       1.11119764, 0.09656936, 0.8367845 , 0.97392242, 0.70846987,\n",
       "       1.02120818])"
      ]
     },
     "execution_count": 85,
     "metadata": {},
     "output_type": "execute_result"
    }
   ],
   "source": [
    "# Equivalent Uncertainty\n",
    "\n",
    "# `a` is the independent variable\n",
    "# `d` is the dependent variable\n",
    "# `beta` contains the uncertainties of `a`\n",
    "# `alpha` contians the uncertainties of `d`\n",
    "\n",
    "pl.uncty_indp_equiv(a, d, beta, alpha)"
   ]
  },
  {
   "cell_type": "markdown",
   "id": "2ee41b36",
   "metadata": {
    "pycharm": {
     "name": "#%% md\n"
    }
   },
   "source": [
    "# Testing a Fit"
   ]
  },
  {
   "cell_type": "markdown",
   "id": "4fc844c3",
   "metadata": {
    "pycharm": {
     "name": "#%% md\n"
    }
   },
   "source": [
    "## Agreement Tests"
   ]
  },
  {
   "cell_type": "code",
   "execution_count": 86,
   "id": "d14650c4",
   "metadata": {
    "pycharm": {
     "name": "#%%\n"
    }
   },
   "outputs": [
    {
     "data": {
      "text/plain": [
       "True"
      ]
     },
     "execution_count": 86,
     "metadata": {},
     "output_type": "execute_result"
    }
   ],
   "source": [
    "# Agreement Test\n",
    "\n",
    "# Returns true if we claim agreement and false otherwise.\n",
    "\n",
    "y = a[0]\n",
    "uncty_y = beta[0]\n",
    "z = d[0]\n",
    "uncty_z = alpha[0]\n",
    "\n",
    "pl.agreement_test(y, z, uncty_y, uncty_z)"
   ]
  },
  {
   "cell_type": "code",
   "execution_count": 87,
   "id": "f99592f5",
   "metadata": {
    "pycharm": {
     "name": "#%%\n"
    }
   },
   "outputs": [
    {
     "name": "stdout",
     "output_type": "stream",
     "text": [
      "Simple Linear Model\n"
     ]
    },
    {
     "data": {
      "text/plain": [
       "483.93854685025207"
      ]
     },
     "metadata": {},
     "output_type": "display_data"
    },
    {
     "name": "stdout",
     "output_type": "stream",
     "text": [
      "Simple Direct Proportionality Model\n"
     ]
    },
    {
     "data": {
      "text/plain": [
       "419.62232425035626"
      ]
     },
     "metadata": {},
     "output_type": "display_data"
    },
    {
     "name": "stdout",
     "output_type": "stream",
     "text": [
      "Weighted Linear Model\n"
     ]
    },
    {
     "data": {
      "text/plain": [
       "16.848317716749428"
      ]
     },
     "metadata": {},
     "output_type": "display_data"
    },
    {
     "name": "stdout",
     "output_type": "stream",
     "text": [
      "Weighted Direct Proportionality Model\n"
     ]
    },
    {
     "data": {
      "text/plain": [
       "15.257651890481606"
      ]
     },
     "metadata": {},
     "output_type": "display_data"
    }
   ],
   "source": [
    "# Reduced Chi Squared\n",
    "\n",
    "rchisq1 = pl.red_chi_sq(a, d, alpha, pl.SimpleLin)\n",
    "rchisq2 = pl.red_chi_sq(a, d, alpha, pl.SimpleDirectProp)\n",
    "rchisq3 = pl.red_chi_sq(a, d, alpha, pl.WeightLin)\n",
    "rchisq4 = pl.red_chi_sq(a, d, alpha, pl.WeightDirectProp)\n",
    "print(pl.SimpleLin.name)\n",
    "display(rchisq1)\n",
    "print(pl.SimpleDirectProp.name)\n",
    "display(rchisq2)\n",
    "print(pl.WeightLin.name)\n",
    "display(rchisq3)\n",
    "print(pl.WeightDirectProp.name)\n",
    "display(rchisq4)"
   ]
  },
  {
   "cell_type": "code",
   "execution_count": 88,
   "id": "a1cd6e62",
   "metadata": {
    "pycharm": {
     "name": "#%%\n"
    }
   },
   "outputs": [
    {
     "name": "stdout",
     "output_type": "stream",
     "text": [
      "Simple Linear Model\n"
     ]
    },
    {
     "data": {
      "text/plain": [
       "9.0"
      ]
     },
     "metadata": {},
     "output_type": "display_data"
    },
    {
     "name": "stdout",
     "output_type": "stream",
     "text": [
      "Simple Direct Proportionality Model\n"
     ]
    },
    {
     "data": {
      "text/plain": [
       "10.0"
      ]
     },
     "metadata": {},
     "output_type": "display_data"
    },
    {
     "name": "stdout",
     "output_type": "stream",
     "text": [
      "Weighted Linear Model\n"
     ]
    },
    {
     "data": {
      "text/plain": [
       "9.0"
      ]
     },
     "metadata": {},
     "output_type": "display_data"
    },
    {
     "name": "stdout",
     "output_type": "stream",
     "text": [
      "Weighted Direct Proportionality Model\n"
     ]
    },
    {
     "data": {
      "text/plain": [
       "10.0"
      ]
     },
     "metadata": {},
     "output_type": "display_data"
    }
   ],
   "source": [
    "# Degrees of Freedom\n",
    "\n",
    "dof1 = pl.deg_of_freedom(a, d, pl.SimpleLin)\n",
    "dof2 = pl.deg_of_freedom(a, d, pl.SimpleDirectProp)\n",
    "dof3 = pl.deg_of_freedom(a, d, pl.WeightLin)\n",
    "dof4 = pl.deg_of_freedom(a, d, pl.WeightDirectProp)\n",
    "print(pl.SimpleLin.name)\n",
    "display(dof1)\n",
    "print(pl.SimpleDirectProp.name)\n",
    "display(dof2)\n",
    "print(pl.WeightLin.name)\n",
    "display(dof3)\n",
    "print(pl.WeightDirectProp.name)\n",
    "display(dof4)"
   ]
  },
  {
   "cell_type": "markdown",
   "id": "2b1c1d53",
   "metadata": {
    "pycharm": {
     "name": "#%% md\n"
    }
   },
   "source": [
    "# Visualization"
   ]
  },
  {
   "cell_type": "markdown",
   "id": "dca22074",
   "metadata": {
    "pycharm": {
     "name": "#%% md\n"
    }
   },
   "source": [
    "As of right now, I've only implemented \n",
    "- scatter plots: `scatter_plt_arr`, `scatter_plt_df`\n",
    "- residual plots: `resid_plt_arr`, `resid_plt_df`\n",
    "- best-fit plots `best_fit_plt_arr`, `best_fit_plt_df`.\n",
    "\n",
    "For the following examples, I will use data from my PHYSICS 5BL Capstone Project. If you're interested in the exact tools my group used or our analysis of this data, you can read our report [here](https://drive.google.com/file/d/1fZCzdEFX2GXquJCUiVdMTnbT0KjPzAvS/view?usp=sharing)."
   ]
  },
  {
   "cell_type": "code",
   "execution_count": 99,
   "id": "a3fe7361",
   "metadata": {
    "pycharm": {
     "name": "#%%\n"
    }
   },
   "outputs": [
    {
     "data": {
      "text/html": [
       "<div>\n",
       "<style scoped>\n",
       "    .dataframe tbody tr th:only-of-type {\n",
       "        vertical-align: middle;\n",
       "    }\n",
       "\n",
       "    .dataframe tbody tr th {\n",
       "        vertical-align: top;\n",
       "    }\n",
       "\n",
       "    .dataframe thead th {\n",
       "        text-align: right;\n",
       "    }\n",
       "</style>\n",
       "<table border=\"1\" class=\"dataframe\">\n",
       "  <thead>\n",
       "    <tr style=\"text-align: right;\">\n",
       "      <th></th>\n",
       "      <th>Voltage</th>\n",
       "      <th>Current (mA)</th>\n",
       "    </tr>\n",
       "  </thead>\n",
       "  <tbody>\n",
       "    <tr>\n",
       "      <th>0</th>\n",
       "      <td>0.0</td>\n",
       "      <td>0.00</td>\n",
       "    </tr>\n",
       "    <tr>\n",
       "      <th>1</th>\n",
       "      <td>0.5</td>\n",
       "      <td>0.00</td>\n",
       "    </tr>\n",
       "    <tr>\n",
       "      <th>2</th>\n",
       "      <td>1.0</td>\n",
       "      <td>0.04</td>\n",
       "    </tr>\n",
       "    <tr>\n",
       "      <th>3</th>\n",
       "      <td>1.5</td>\n",
       "      <td>0.08</td>\n",
       "    </tr>\n",
       "    <tr>\n",
       "      <th>4</th>\n",
       "      <td>2.0</td>\n",
       "      <td>0.13</td>\n",
       "    </tr>\n",
       "  </tbody>\n",
       "</table>\n",
       "</div>"
      ],
      "text/plain": [
       "   Voltage  Current (mA)\n",
       "0      0.0          0.00\n",
       "1      0.5          0.00\n",
       "2      1.0          0.04\n",
       "3      1.5          0.08\n",
       "4      2.0          0.13"
      ]
     },
     "execution_count": 99,
     "metadata": {},
     "output_type": "execute_result"
    }
   ],
   "source": [
    "iv_readings = pd.read_csv(\"IV_Readings - Forward Biased-4.7V Diod,10kO R.csv\")\n",
    "iv_readings = iv_readings.iloc[:, 0:2]\n",
    "iv_readings.head()"
   ]
  },
  {
   "cell_type": "markdown",
   "id": "8dc036d7",
   "metadata": {
    "pycharm": {
     "name": "#%% md\n"
    }
   },
   "source": [
    "I have built two different ways of creating the same plot: with arrays and with Pandas dataframes.\n",
    "\n",
    "Here, I will create two arrays for the two columns of the table above."
   ]
  },
  {
   "cell_type": "code",
   "execution_count": 104,
   "id": "dc531273",
   "metadata": {
    "pycharm": {
     "name": "#%%\n"
    }
   },
   "outputs": [],
   "source": [
    "voltage = iv_readings['Voltage'].values\n",
    "current = iv_readings['Current (mA)'].values"
   ]
  },
  {
   "cell_type": "markdown",
   "id": "64a376ed",
   "metadata": {
    "pycharm": {
     "name": "#%% md\n"
    }
   },
   "source": [
    "Since I don't have any uncertainty values, I will use the accuracy of our apparatus (at least the closest model): $\\pm (1.0 \\% + 3 \\text{ dgt})$, which can be [found here](https://www.kpu.ca/physics/Phys1102-1220/DMMUncertainties)."
   ]
  },
  {
   "cell_type": "code",
   "execution_count": 105,
   "id": "a7e91c7d",
   "metadata": {
    "pycharm": {
     "name": "#%%\n"
    }
   },
   "outputs": [],
   "source": [
    "iv_readings['Current Uncertainty'] = (iv_readings['Current (mA)']*0.01)+(3*0.01)"
   ]
  },
  {
   "cell_type": "code",
   "execution_count": 106,
   "id": "3ef1fda5",
   "metadata": {
    "pycharm": {
     "name": "#%%\n"
    }
   },
   "outputs": [
    {
     "data": {
      "text/html": [
       "<div>\n",
       "<style scoped>\n",
       "    .dataframe tbody tr th:only-of-type {\n",
       "        vertical-align: middle;\n",
       "    }\n",
       "\n",
       "    .dataframe tbody tr th {\n",
       "        vertical-align: top;\n",
       "    }\n",
       "\n",
       "    .dataframe thead th {\n",
       "        text-align: right;\n",
       "    }\n",
       "</style>\n",
       "<table border=\"1\" class=\"dataframe\">\n",
       "  <thead>\n",
       "    <tr style=\"text-align: right;\">\n",
       "      <th></th>\n",
       "      <th>Voltage</th>\n",
       "      <th>Current (mA)</th>\n",
       "      <th>Current Uncertainty</th>\n",
       "    </tr>\n",
       "  </thead>\n",
       "  <tbody>\n",
       "    <tr>\n",
       "      <th>0</th>\n",
       "      <td>0.0</td>\n",
       "      <td>0.00</td>\n",
       "      <td>0.0300</td>\n",
       "    </tr>\n",
       "    <tr>\n",
       "      <th>1</th>\n",
       "      <td>0.5</td>\n",
       "      <td>0.00</td>\n",
       "      <td>0.0300</td>\n",
       "    </tr>\n",
       "    <tr>\n",
       "      <th>2</th>\n",
       "      <td>1.0</td>\n",
       "      <td>0.04</td>\n",
       "      <td>0.0304</td>\n",
       "    </tr>\n",
       "    <tr>\n",
       "      <th>3</th>\n",
       "      <td>1.5</td>\n",
       "      <td>0.08</td>\n",
       "      <td>0.0308</td>\n",
       "    </tr>\n",
       "    <tr>\n",
       "      <th>4</th>\n",
       "      <td>2.0</td>\n",
       "      <td>0.13</td>\n",
       "      <td>0.0313</td>\n",
       "    </tr>\n",
       "  </tbody>\n",
       "</table>\n",
       "</div>"
      ],
      "text/plain": [
       "   Voltage  Current (mA)  Current Uncertainty\n",
       "0      0.0          0.00               0.0300\n",
       "1      0.5          0.00               0.0300\n",
       "2      1.0          0.04               0.0304\n",
       "3      1.5          0.08               0.0308\n",
       "4      2.0          0.13               0.0313"
      ]
     },
     "execution_count": 106,
     "metadata": {},
     "output_type": "execute_result"
    }
   ],
   "source": [
    "iv_readings.head()"
   ]
  },
  {
   "cell_type": "markdown",
   "id": "781f9f1f",
   "metadata": {
    "pycharm": {
     "name": "#%% md\n"
    }
   },
   "source": [
    "Now I can put the uncertainty values in an array:"
   ]
  },
  {
   "cell_type": "code",
   "execution_count": 107,
   "id": "78d1a5dd",
   "metadata": {
    "pycharm": {
     "name": "#%%\n"
    }
   },
   "outputs": [],
   "source": [
    "curr_uncty = iv_readings['Current Uncertainty'].values"
   ]
  },
  {
   "cell_type": "markdown",
   "id": "2803282d",
   "metadata": {
    "pycharm": {
     "name": "#%% md\n"
    }
   },
   "source": [
    "## Scatter Plots"
   ]
  },
  {
   "cell_type": "markdown",
   "id": "64dbec5b",
   "metadata": {
    "pycharm": {
     "name": "#%% md\n"
    }
   },
   "source": [
    "### Scatter Plots Using Arrays + General Plot Philosophy"
   ]
  },
  {
   "cell_type": "markdown",
   "id": "6a04e78c",
   "metadata": {
    "pycharm": {
     "name": "#%% md\n"
    }
   },
   "source": [
    "`pl.scatter_plt_arr` only requires `x_arr` and `y_arr`, but will inform you if axis titles are unspecified:"
   ]
  },
  {
   "cell_type": "code",
   "execution_count": 110,
   "id": "7e3f4a23",
   "metadata": {
    "pycharm": {
     "name": "#%%\n"
    }
   },
   "outputs": [
    {
     "name": "stdout",
     "output_type": "stream",
     "text": [
      "X-axis title not found\n",
      "Y-axis title not found\n"
     ]
    },
    {
     "data": {
      "image/png": "[encoded data removed]",
      "text/plain": [
       "<Figure size 600x600 with 1 Axes>"
      ]
     },
     "metadata": {},
     "output_type": "display_data"
    }
   ],
   "source": [
    "pl.scatter_plt_arr(\n",
    "    x_arr=voltage, \n",
    "    y_arr=current, \n",
    "    uncty_arr=None,        # optional \n",
    "    x_title=\"\",            # optional\n",
    "    y_title=\"\",            # optional\n",
    "    x_units=\"\",            # optional\n",
    "    y_units=\"\",            # optional\n",
    "    title=\"\",              # optional\n",
    "    figsize=(6, 6),        # optional\n",
    "    x_font_size=13,        # optional\n",
    "    y_font_size=13,        # optional\n",
    "    title_font_size=14,    # optional\n",
    "    x_tick_size=10,        # optional\n",
    "    y_tick_size=10)        # optional"
   ]
  },
  {
   "cell_type": "markdown",
   "id": "c04fb240",
   "metadata": {
    "pycharm": {
     "name": "#%% md\n"
    }
   },
   "source": [
    "If axes titles are specified, the graph will automatically assign it a main title: `x_title` vs `y_title`. Also, adding uncertainties will update the table legend from \"Data without error bar\" to \"Data with error bar\":"
   ]
  },
  {
   "cell_type": "code",
   "execution_count": 111,
   "id": "d825ff15",
   "metadata": {
    "pycharm": {
     "name": "#%%\n"
    }
   },
   "outputs": [
    {
     "name": "stdout",
     "output_type": "stream",
     "text": [
      "Voltage units not found\n",
      "Current units not found\n"
     ]
    },
    {
     "data": {
      "image/png": "[encoded data removed]",
      "text/plain": [
       "<Figure size 600x600 with 1 Axes>"
      ]
     },
     "metadata": {},
     "output_type": "display_data"
    }
   ],
   "source": [
    "pl.scatter_plt_arr(\n",
    "    x_arr=voltage, \n",
    "    y_arr=current, \n",
    "    uncty_arr=curr_uncty,  # optional \n",
    "    x_title=\"Voltage\",     # optional\n",
    "    y_title=\"Current\",     # optional\n",
    "    x_units=\"\",            # optional\n",
    "    y_units=\"\",            # optional\n",
    "    title=\"\",              # optional\n",
    "    figsize=(6, 6),        # optional\n",
    "    x_font_size=13,        # optional\n",
    "    y_font_size=13,        # optional\n",
    "    title_font_size=14,    # optional\n",
    "    x_tick_size=10,        # optional\n",
    "    y_tick_size=10)        # optional"
   ]
  },
  {
   "cell_type": "markdown",
   "id": "a97901e8",
   "metadata": {
    "pycharm": {
     "name": "#%% md\n"
    }
   },
   "source": [
    "However, the plot won't have units if they aren't specified. They can be specified in `x_title` or `y_title` with parentheses (e.g. `x_title=\"Voltage (V)\"`), or in `x_units` (e.g. `x_units=\"V\"`):"
   ]
  },
  {
   "cell_type": "code",
   "execution_count": 112,
   "id": "512e2a09",
   "metadata": {
    "pycharm": {
     "name": "#%%\n"
    }
   },
   "outputs": [
    {
     "data": {
      "image/png": "[encoded data removed]",
      "text/plain": [
       "<Figure size 600x600 with 1 Axes>"
      ]
     },
     "metadata": {},
     "output_type": "display_data"
    }
   ],
   "source": [
    "pl.scatter_plt_arr(\n",
    "    x_arr=voltage, \n",
    "    y_arr=current, \n",
    "    uncty_arr=curr_uncty,  # optional \n",
    "    x_title=\"Voltage\",     # optional\n",
    "    y_title=\"Current\",     # optional\n",
    "    x_units=\"V\",           # optional\n",
    "    y_units=\"mA\",          # optional\n",
    "    title=\"\",              # optional\n",
    "    figsize=(6, 6),        # optional\n",
    "    x_font_size=13,        # optional\n",
    "    y_font_size=13,        # optional\n",
    "    title_font_size=14,    # optional\n",
    "    x_tick_size=10,        # optional\n",
    "    y_tick_size=10)        # optional"
   ]
  },
  {
   "cell_type": "markdown",
   "id": "9af87295",
   "metadata": {
    "pycharm": {
     "name": "#%% md\n"
    }
   },
   "source": [
    "Finally, if we want a different main title, we can specify it using `title`:"
   ]
  },
  {
   "cell_type": "code",
   "execution_count": 121,
   "id": "a660acb1",
   "metadata": {
    "pycharm": {
     "name": "#%%\n"
    }
   },
   "outputs": [
    {
     "data": {
      "image/png": "[encoded data removed]",
      "text/plain": [
       "<Figure size 600x600 with 1 Axes>"
      ]
     },
     "metadata": {},
     "output_type": "display_data"
    }
   ],
   "source": [
    "pl.scatter_plt_arr(\n",
    "    x_arr=voltage, \n",
    "    y_arr=current, \n",
    "    uncty_arr=curr_uncty,  # optional \n",
    "    x_title=\"Voltage\",     # optional\n",
    "    y_title=\"Current\",     # optional\n",
    "    x_units=\"V\",           # optional\n",
    "    y_units=\"mA\",          # optional\n",
    "    title=\"IV Readings - Forward Biased-4.7V Diod, 10k$\\\\Omega$ R\", # optional\n",
    "    figsize=(6, 6),        # optional\n",
    "    x_font_size=13,        # optional\n",
    "    y_font_size=13,        # optional\n",
    "    title_font_size=10,    # optional\n",
    "    x_tick_size=10,        # optional\n",
    "    y_tick_size=10)        # optional"
   ]
  },
  {
   "cell_type": "markdown",
   "id": "cce1a78b",
   "metadata": {
    "pycharm": {
     "name": "#%% md\n"
    }
   },
   "source": [
    "As a side note, all string-based parameters can contain math symbols using $\\LaTeX$ and double \"`\\\\`\" (e.g. `$\\\\Omega$`)."
   ]
  },
  {
   "cell_type": "markdown",
   "id": "5650191a",
   "metadata": {
    "pycharm": {
     "name": "#%% md\n"
    }
   },
   "source": [
    "The same plot-generation principles demonstrated here apply for all other plotting functions."
   ]
  },
  {
   "cell_type": "markdown",
   "id": "237ab7a3",
   "metadata": {
    "pycharm": {
     "name": "#%% md\n"
    }
   },
   "source": [
    "### Scatter Plots Using DataFrames"
   ]
  },
  {
   "cell_type": "markdown",
   "id": "a50668ea",
   "metadata": {
    "pycharm": {
     "name": "#%% md\n"
    }
   },
   "source": [
    "If we've imported a `.csv`, it's convenient to plot without going through the process of making arrays. I've based my table-to-plot functions on `pandas` DataFrames. Here's the IV table from before:"
   ]
  },
  {
   "cell_type": "code",
   "execution_count": 123,
   "id": "4f3b0df8",
   "metadata": {
    "pycharm": {
     "name": "#%%\n"
    }
   },
   "outputs": [
    {
     "data": {
      "text/html": [
       "<div>\n",
       "<style scoped>\n",
       "    .dataframe tbody tr th:only-of-type {\n",
       "        vertical-align: middle;\n",
       "    }\n",
       "\n",
       "    .dataframe tbody tr th {\n",
       "        vertical-align: top;\n",
       "    }\n",
       "\n",
       "    .dataframe thead th {\n",
       "        text-align: right;\n",
       "    }\n",
       "</style>\n",
       "<table border=\"1\" class=\"dataframe\">\n",
       "  <thead>\n",
       "    <tr style=\"text-align: right;\">\n",
       "      <th></th>\n",
       "      <th>Voltage</th>\n",
       "      <th>Current (mA)</th>\n",
       "      <th>Current Uncertainty</th>\n",
       "    </tr>\n",
       "  </thead>\n",
       "  <tbody>\n",
       "    <tr>\n",
       "      <th>0</th>\n",
       "      <td>0.0</td>\n",
       "      <td>0.00</td>\n",
       "      <td>0.0300</td>\n",
       "    </tr>\n",
       "    <tr>\n",
       "      <th>1</th>\n",
       "      <td>0.5</td>\n",
       "      <td>0.00</td>\n",
       "      <td>0.0300</td>\n",
       "    </tr>\n",
       "    <tr>\n",
       "      <th>2</th>\n",
       "      <td>1.0</td>\n",
       "      <td>0.04</td>\n",
       "      <td>0.0304</td>\n",
       "    </tr>\n",
       "    <tr>\n",
       "      <th>3</th>\n",
       "      <td>1.5</td>\n",
       "      <td>0.08</td>\n",
       "      <td>0.0308</td>\n",
       "    </tr>\n",
       "    <tr>\n",
       "      <th>4</th>\n",
       "      <td>2.0</td>\n",
       "      <td>0.13</td>\n",
       "      <td>0.0313</td>\n",
       "    </tr>\n",
       "  </tbody>\n",
       "</table>\n",
       "</div>"
      ],
      "text/plain": [
       "   Voltage  Current (mA)  Current Uncertainty\n",
       "0      0.0          0.00               0.0300\n",
       "1      0.5          0.00               0.0300\n",
       "2      1.0          0.04               0.0304\n",
       "3      1.5          0.08               0.0308\n",
       "4      2.0          0.13               0.0313"
      ]
     },
     "execution_count": 123,
     "metadata": {},
     "output_type": "execute_result"
    }
   ],
   "source": [
    "iv_readings.head()"
   ]
  },
  {
   "cell_type": "markdown",
   "id": "899e637b",
   "metadata": {
    "pycharm": {
     "name": "#%% md\n"
    }
   },
   "source": [
    "We can create a plot using only this table's headers:"
   ]
  },
  {
   "cell_type": "code",
   "execution_count": 126,
   "id": "0567965d",
   "metadata": {
    "pycharm": {
     "name": "#%%\n"
    }
   },
   "outputs": [
    {
     "data": {
      "image/png": "[encoded data removed]",
      "text/plain": [
       "<Figure size 600x600 with 1 Axes>"
      ]
     },
     "metadata": {},
     "output_type": "display_data"
    }
   ],
   "source": [
    "iv_readings_title = \"IV Readings - Forward Biased-4.7V Diod, 10k$\\\\Omega$ R\"\n",
    "\n",
    "pl.scatter_plt_df(\n",
    "    df=iv_readings,\n",
    "    x_title=\"Voltage\",\n",
    "    y_title=\"Current (mA)\",\n",
    "    uncty_title=\"Current Uncertainty\",  # optional\n",
    "    x_units=\"V\",                        # optional\n",
    "    y_units=\"mA\",                       # optional\n",
    "    title=iv_readings_title,            # optional\n",
    "    figsize=(6, 6),                     # optional\n",
    "    x_font_size=13,                     # optional\n",
    "    y_font_size=13,                     # optional\n",
    "    title_font_size=10,                 # optional\n",
    "    x_tick_size=10,                     # optional\n",
    "    y_tick_size=10)                     # optional"
   ]
  },
  {
   "cell_type": "markdown",
   "id": "6abd9d3b",
   "metadata": {
    "pycharm": {
     "name": "#%% md\n"
    }
   },
   "source": [
    "## Residual Plots"
   ]
  },
  {
   "cell_type": "markdown",
   "id": "ee0db444",
   "metadata": {
    "pycharm": {
     "name": "#%% md\n"
    }
   },
   "source": [
    "### Residual Plots Using Arrays"
   ]
  },
  {
   "cell_type": "markdown",
   "id": "8a219221",
   "metadata": {
    "pycharm": {
     "name": "#%% md\n"
    }
   },
   "source": [
    "The two residual plot functions operate similarly to the scatter plot functions. For this array-based residual plotting function, a `reg_model` parameter is needed. This `reg_model` parameter takes in one of the currently implemented regression models:\n",
    "\n",
    "- `pl.SimpleLin`: Simple Linear Model $(y=mx+c)$\n",
    "- `pl.SimpleDirectProp`: Simple Direct Proportionality Model $(y=mx)$\n",
    "- `pl.WeightLin`:  Weighted Linear Model $(y=mx+c)$\n",
    "- `pl.WeightDirectProp`: Weighted Direct Proportionality Model $(y=mx)$."
   ]
  },
  {
   "cell_type": "code",
   "execution_count": 135,
   "id": "8182f54a",
   "metadata": {
    "pycharm": {
     "name": "#%%\n"
    }
   },
   "outputs": [
    {
     "data": {
      "image/png": "[encoded data removed]",
      "text/plain": [
       "<Figure size 600x600 with 1 Axes>"
      ]
     },
     "metadata": {},
     "output_type": "display_data"
    }
   ],
   "source": [
    "pl.resid_plt_arr(\n",
    "    x_arr=current,\n",
    "    y_arr=voltage,\n",
    "    uncty_arr=curr_uncty,\n",
    "    reg_model=pl.WeightLin,\n",
    "    x_title=\"Current\",   # optional\n",
    "    x_units=\"mA\",        # optional\n",
    "    resid_units=\"V\",     # optional\n",
    "    figsize=(6, 6),      # optional\n",
    "    x_font_size=12,      # optional\n",
    "    y_font_size=12,      # optional\n",
    "    title_font_size=14,  # optional\n",
    "    x_tick_size=10,      # optional\n",
    "    y_tick_size=10,      # optional\n",
    "    grid=True)           # optional"
   ]
  },
  {
   "cell_type": "markdown",
   "id": "d98244a0",
   "metadata": {
    "pycharm": {
     "name": "#%% md\n"
    }
   },
   "source": [
    "### Residual Plots Using DataFrames"
   ]
  },
  {
   "cell_type": "markdown",
   "id": "a9679862",
   "metadata": {
    "pycharm": {
     "name": "#%% md\n"
    }
   },
   "source": [
    "Here is the IV readings table for reference:"
   ]
  },
  {
   "cell_type": "code",
   "execution_count": 136,
   "id": "d097334e",
   "metadata": {
    "pycharm": {
     "name": "#%%\n"
    }
   },
   "outputs": [
    {
     "data": {
      "text/html": [
       "<div>\n",
       "<style scoped>\n",
       "    .dataframe tbody tr th:only-of-type {\n",
       "        vertical-align: middle;\n",
       "    }\n",
       "\n",
       "    .dataframe tbody tr th {\n",
       "        vertical-align: top;\n",
       "    }\n",
       "\n",
       "    .dataframe thead th {\n",
       "        text-align: right;\n",
       "    }\n",
       "</style>\n",
       "<table border=\"1\" class=\"dataframe\">\n",
       "  <thead>\n",
       "    <tr style=\"text-align: right;\">\n",
       "      <th></th>\n",
       "      <th>Voltage</th>\n",
       "      <th>Current (mA)</th>\n",
       "      <th>Current Uncertainty</th>\n",
       "    </tr>\n",
       "  </thead>\n",
       "  <tbody>\n",
       "    <tr>\n",
       "      <th>0</th>\n",
       "      <td>0.0</td>\n",
       "      <td>0.00</td>\n",
       "      <td>0.0300</td>\n",
       "    </tr>\n",
       "    <tr>\n",
       "      <th>1</th>\n",
       "      <td>0.5</td>\n",
       "      <td>0.00</td>\n",
       "      <td>0.0300</td>\n",
       "    </tr>\n",
       "    <tr>\n",
       "      <th>2</th>\n",
       "      <td>1.0</td>\n",
       "      <td>0.04</td>\n",
       "      <td>0.0304</td>\n",
       "    </tr>\n",
       "    <tr>\n",
       "      <th>3</th>\n",
       "      <td>1.5</td>\n",
       "      <td>0.08</td>\n",
       "      <td>0.0308</td>\n",
       "    </tr>\n",
       "    <tr>\n",
       "      <th>4</th>\n",
       "      <td>2.0</td>\n",
       "      <td>0.13</td>\n",
       "      <td>0.0313</td>\n",
       "    </tr>\n",
       "  </tbody>\n",
       "</table>\n",
       "</div>"
      ],
      "text/plain": [
       "   Voltage  Current (mA)  Current Uncertainty\n",
       "0      0.0          0.00               0.0300\n",
       "1      0.5          0.00               0.0300\n",
       "2      1.0          0.04               0.0304\n",
       "3      1.5          0.08               0.0308\n",
       "4      2.0          0.13               0.0313"
      ]
     },
     "execution_count": 136,
     "metadata": {},
     "output_type": "execute_result"
    }
   ],
   "source": [
    "iv_readings.head()"
   ]
  },
  {
   "cell_type": "code",
   "execution_count": 142,
   "id": "73b84655",
   "metadata": {
    "pycharm": {
     "name": "#%%\n"
    }
   },
   "outputs": [
    {
     "data": {
      "image/png": "[encoded data removed]",
      "text/plain": [
       "<Figure size 600x600 with 1 Axes>"
      ]
     },
     "metadata": {},
     "output_type": "display_data"
    }
   ],
   "source": [
    "pl.resid_plt_df(\n",
    "    df=iv_readings,\n",
    "    x_title=\"Current (mA)\",\n",
    "    y_title=\"Voltage\",\n",
    "    uncty_title=\"Current Uncertainty\",\n",
    "    reg_model=pl.SimpleDirectProp,\n",
    "    x_units=\"mA\",        # optional\n",
    "    resid_units=\"V\",     # optional\n",
    "    figsize=(6, 6),      # optional\n",
    "    x_font_size=12,      # optional\n",
    "    y_font_size=12,      # optional\n",
    "    title_font_size=14,  # optional\n",
    "    x_tick_size=10,      # optional\n",
    "    y_tick_size=10,      # optional\n",
    "    grid=True)           # optional"
   ]
  },
  {
   "cell_type": "markdown",
   "id": "6ae27d52",
   "metadata": {
    "pycharm": {
     "name": "#%% md\n"
    }
   },
   "source": [
    "## Best-Fit Plots"
   ]
  },
  {
   "cell_type": "markdown",
   "id": "19dcac85",
   "metadata": {
    "pycharm": {
     "name": "#%% md\n"
    }
   },
   "source": [
    "### Best-Fit Plots Using Arrays"
   ]
  },
  {
   "cell_type": "markdown",
   "id": "2f122bb2",
   "metadata": {
    "pycharm": {
     "name": "#%% md\n"
    }
   },
   "source": [
    "The best-fit plot functions will plot the data alongside the regresion model and print the values of  the best-fit model's optimal parameters, such as its slope ($m$), intercept ($c$), and reduced chi-squared ($\\tilde{\\chi}^2$). "
   ]
  },
  {
   "cell_type": "code",
   "execution_count": 150,
   "id": "9c11d9a9",
   "metadata": {
    "pycharm": {
     "name": "#%%\n"
    }
   },
   "outputs": [
    {
     "name": "stdout",
     "output_type": "stream",
     "text": [
      "Equation: y=mx\n",
      "m = 11.4 ± 0.1 V/mA\n",
      "Reduced Chi-Squared = 42.9\n"
     ]
    },
    {
     "data": {
      "image/png": "[encoded data removed]",
      "text/plain": [
       "<Figure size 600x600 with 1 Axes>"
      ]
     },
     "metadata": {},
     "output_type": "display_data"
    }
   ],
   "source": [
    "best_fit_title1 = \"Forward Biased-4.7V Red Diode, 10k$\\\\Omega$, \\n\" \\\n",
    "                    + pl.WeightDirectProp.name.replace(\"Model\", \"Fit\") + \", \\n\" \\\n",
    "                    + \"Optimal Parameters\"\n",
    "\n",
    "pl.best_fit_plt_arr(\n",
    "    x_arr=current,\n",
    "    y_arr=voltage,\n",
    "    uncty_arr=curr_uncty,\n",
    "    reg_model=pl.WeightDirectProp,\n",
    "    x_title=\"Current\",     # optional\n",
    "    y_title=\"Voltage\",     # optional\n",
    "    x_units=\"mA\",          # optional\n",
    "    y_units=\"V\",           # optional\n",
    "    title=best_fit_title1, # optional\n",
    "    figsize=(6, 6),        # optional\n",
    "    x_font_size=12,        # optional\n",
    "    y_font_size=12,        # optional\n",
    "    title_font_size=14,    # optional\n",
    "    x_tick_size=10,        # optional\n",
    "    y_tick_size=10,        # optional\n",
    "    grid=False,            # optional\n",
    "    show_ref=True)         # optional (default is False)"
   ]
  },
  {
   "cell_type": "markdown",
   "id": "29e1b140",
   "metadata": {
    "pycharm": {
     "name": "#%% md\n"
    }
   },
   "source": [
    "As a side note, the optimal parameters are hidden on the graph by default. I have shown them in this example to demonstrate a graph containing such information. "
   ]
  },
  {
   "cell_type": "markdown",
   "id": "8284628f",
   "metadata": {
    "pycharm": {
     "name": "#%% md\n"
    }
   },
   "source": [
    "### Best-Fit Plots Using DataFrames"
   ]
  },
  {
   "cell_type": "markdown",
   "id": "a9e8d55f",
   "metadata": {
    "pycharm": {
     "name": "#%% md\n"
    }
   },
   "source": [
    "The DataFrame-based function for creating best-fit plots is similar to the other DataFrame-based functions discussed before. For this example, I will enable the grid view and disable the optimal-parameters reference."
   ]
  },
  {
   "cell_type": "code",
   "execution_count": 154,
   "id": "af14f6d8",
   "metadata": {
    "pycharm": {
     "name": "#%%\n"
    }
   },
   "outputs": [
    {
     "name": "stdout",
     "output_type": "stream",
     "text": [
      "Equation: y=mx+c\n",
      "m = 10.6 ± 0.1 V/mA\n",
      "c = 0.4 ± 0.0 V/mA\n",
      "Reduced Chi-Squared = 9.7\n"
     ]
    },
    {
     "data": {
      "image/png": "[encoded data removed]",
      "text/plain": [
       "<Figure size 600x600 with 1 Axes>"
      ]
     },
     "metadata": {},
     "output_type": "display_data"
    }
   ],
   "source": [
    "best_fit_title2 = \"Forward Biased-4.7V Red Diode, 10k$\\\\Omega$, \\n\" \\\n",
    "                    + pl.SimpleLin.name.replace(\"Model\", \"Fit\")\n",
    "\n",
    "pl.best_fit_plt_df(\n",
    "    df=iv_readings,\n",
    "    x_title=\"Current (mA)\",\n",
    "    y_title=\"Voltage\",\n",
    "    uncty_title=\"Current Uncertainty\",\n",
    "    reg_model=pl.SimpleLin,\n",
    "    x_units=\"mA\",            # optional\n",
    "    y_units=\"V\",             # optional\n",
    "    title=best_fit_title2,   # optional\n",
    "    figsize=(6, 6),          # optional\n",
    "    x_font_size=12,          # optional\n",
    "    y_font_size=12,          # optional\n",
    "    title_font_size=14,      # optional\n",
    "    x_tick_size=10,          # optional\n",
    "    y_tick_size=10,          # optional\n",
    "    grid=True,               # optional\n",
    "    show_ref=False)          # optional"
   ]
  }
 ],
 "metadata": {
  "kernelspec": {
   "display_name": "Python 3 (ipykernel)",
   "language": "python",
   "name": "python3"
  },
  "language_info": {
   "codemirror_mode": {
    "name": "ipython",
    "version": 3
   },
   "file_extension": ".py",
   "mimetype": "text/x-python",
   "name": "python",
   "nbconvert_exporter": "python",
   "pygments_lexer": "ipython3",
   "version": "3.9.13"
  },
  "toc": {
   "base_numbering": 1,
   "nav_menu": {},
   "number_sections": true,
   "sideBar": true,
   "skip_h1_title": false,
   "title_cell": "Table of Contents",
   "title_sidebar": "Contents",
   "toc_cell": false,
   "toc_position": {},
   "toc_section_display": true,
   "toc_window_display": false
  },
  "varInspector": {
   "cols": {
    "lenName": 16,
    "lenType": 16,
    "lenVar": 40
   },
   "kernels_config": {
    "python": {
     "delete_cmd_postfix": "",
     "delete_cmd_prefix": "del ",
     "library": "var_list.py",
     "varRefreshCmd": "print(var_dic_list())"
    },
    "r": {
     "delete_cmd_postfix": ") ",
     "delete_cmd_prefix": "rm(",
     "library": "var_list.r",
     "varRefreshCmd": "cat(var_dic_list()) "
    }
   },
   "types_to_exclude": [
    "module",
    "function",
    "builtin_function_or_method",
    "instance",
    "_Feature"
   ],
   "window_display": false
  }
 },
 "nbformat": 4,
 "nbformat_minor": 5
}